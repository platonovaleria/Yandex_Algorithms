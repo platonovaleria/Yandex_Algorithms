{
  "nbformat": 4,
  "nbformat_minor": 0,
  "metadata": {
    "colab": {
      "name": "Homework_2.ipynb",
      "provenance": [],
      "authorship_tag": "ABX9TyNdEaSq/5jWwlt4DgaDNVOe",
      "include_colab_link": true
    },
    "kernelspec": {
      "name": "python3",
      "display_name": "Python 3"
    },
    "language_info": {
      "name": "python"
    }
  },
  "cells": [
    {
      "cell_type": "markdown",
      "metadata": {
        "id": "view-in-github",
        "colab_type": "text"
      },
      "source": [
        "<a href=\"https://colab.research.google.com/github/platonovaleria/Yandex_Algorithms_Training_1.0/blob/main/Homework_2.ipynb\" target=\"_parent\"><img src=\"https://colab.research.google.com/assets/colab-badge.svg\" alt=\"Open In Colab\"/></a>"
      ]
    },
    {
      "cell_type": "markdown",
      "metadata": {
        "id": "leYp-HOQCjtX"
      },
      "source": [
        "##B. Определить вид последовательности\n",
        "\n"
      ]
    },
    {
      "cell_type": "markdown",
      "metadata": {
        "id": "C_4g-TY3CpZX"
      },
      "source": [
        "По последовательности чисел во входных данных определите ее вид:\n",
        "\n",
        "    CONSTANT – последовательность состоит из одинаковых значений\n",
        "    ASCENDING – последовательность является строго возрастающей\n",
        "    WEAKLY ASCENDING – последовательность является нестрого возрастающей\n",
        "    DESCENDING – последовательность является строго убывающей\n",
        "    WEAKLY DESCENDING – последовательность является нестрого убывающей\n",
        "    RANDOM – последовательность не принадлежит ни к одному из вышеупомянутых типов\n",
        "\n",
        "**Формат ввода**\n",
        "\n",
        "По одному на строке поступают числа последовательности ai, |ai| ≤ 109.\n",
        "\n",
        "Признаком окончания последовательности является число -2× 109. Оно в последовательность не входит.\n",
        "\n",
        "**Формат вывода**\n",
        "\n",
        "В единственной строке выведите тип последовательности."
      ]
    },
    {
      "cell_type": "code",
      "metadata": {
        "id": "BP0okokkCimu"
      },
      "source": [
        "args = [int(x) for x in iter(input, '-2000000000')]\n",
        "\n",
        "def type_of_sequence(args):\n",
        "    d = {'CONSTANT': 0,\n",
        "        'ASCENDING': 0,\n",
        "        'WEAKLY ASCENDING': 0,\n",
        "        'DESCENDING': 0,\n",
        "        'WEAKLY DESCENDING': 0,\n",
        "        'RANDOM': 0}\n",
        "\n",
        "    i = 0\n",
        "\n",
        "    while i < (len(args) - 1):\n",
        "        if args[i] == args[i+1]:\n",
        "            d['CONSTANT'] += 1\n",
        "            d['WEAKLY ASCENDING'] += 1\n",
        "            d['WEAKLY DESCENDING'] += 1\n",
        "        elif args[i] < args[i+1]:\n",
        "            d['ASCENDING'] += 1\n",
        "            d['WEAKLY ASCENDING'] += 1\n",
        "        else:\n",
        "            d['DESCENDING'] += 1\n",
        "            d['WEAKLY DESCENDING'] += 1\n",
        "        i += 1\n",
        "        \n",
        "    if max(d.values()) == len(args) - 1:\n",
        "        print (max(d, key=d.get))\n",
        "    else:\n",
        "        print ('RANDOM')"
      ],
      "execution_count": null,
      "outputs": []
    }
  ]
}