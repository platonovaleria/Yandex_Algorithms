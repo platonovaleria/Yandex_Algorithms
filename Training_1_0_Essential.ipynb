{
  "nbformat": 4,
  "nbformat_minor": 0,
  "metadata": {
    "colab": {
      "name": "Training_1.0_Essential.ipynb",
      "provenance": [],
      "collapsed_sections": [],
      "authorship_tag": "ABX9TyNfjQTKnAGWo2Gn1gbXLEF+",
      "include_colab_link": true
    },
    "kernelspec": {
      "name": "python3",
      "display_name": "Python 3"
    },
    "language_info": {
      "name": "python"
    }
  },
  "cells": [
    {
      "cell_type": "markdown",
      "metadata": {
        "id": "view-in-github",
        "colab_type": "text"
      },
      "source": [
        "<a href=\"https://colab.research.google.com/github/platonovaleria/Yandex_Algorithms_Training_1.0/blob/main/Training_1_0_Essential.ipynb\" target=\"_parent\"><img src=\"https://colab.research.google.com/assets/colab-badge.svg\" alt=\"Open In Colab\"/></a>"
      ]
    },
    {
      "cell_type": "markdown",
      "metadata": {
        "id": "leYp-HOQCjtX"
      },
      "source": [
        "##2B. Определить вид последовательности\n",
        "\n"
      ]
    },
    {
      "cell_type": "markdown",
      "metadata": {
        "id": "C_4g-TY3CpZX"
      },
      "source": [
        "По последовательности чисел во входных данных определите ее вид:\n",
        "\n",
        "    \n",
        "\n",
        "*   ***CONSTANT*** – последовательность состоит из одинаковых значений\n",
        "*   ***ASCENDING*** – последовательность является строго возрастающей\n",
        "*   ***WEAKLY ASCENDING*** – последовательность является нестрого возрастающей\n",
        "*   ***DESCENDING*** – последовательность является строго убывающей\n",
        "*   ***WEAKLY DESCENDING*** – последовательность является нестрого убывающей\n",
        "*   ***RANDOM*** – последовательность не принадлежит ни к одному из вышеупомянутых типов\n",
        "\n",
        "**Формат ввода:**\n",
        "\n",
        "По одному на строке поступают числа последовательности ai, |ai| ≤ 109.\n",
        "\n",
        "Признаком окончания последовательности является число -2× 109. Оно в последовательность не входит.\n",
        "\n",
        "**Формат вывода:**\n",
        "\n",
        "В единственной строке выведите тип последовательности."
      ]
    },
    {
      "cell_type": "code",
      "metadata": {
        "id": "BP0okokkCimu"
      },
      "source": [
        "args = [int(x) for x in iter(input, '-2000000000')]\n",
        "\n",
        "def type_of_sequence(args):\n",
        "    i = 0\n",
        "    d = {'CONSTANT': 0,\n",
        "        'ASCENDING': 0,\n",
        "        'WEAKLY ASCENDING': 0,\n",
        "        'DESCENDING': 0,\n",
        "        'WEAKLY DESCENDING': 0,\n",
        "        'RANDOM': 0}\n",
        "    while i < (len(args) - 1):\n",
        "        if args[i] == args[i+1]:\n",
        "            d['CONSTANT'] += 1\n",
        "            d['WEAKLY ASCENDING'] += 1\n",
        "            d['WEAKLY DESCENDING'] += 1\n",
        "        elif args[i] < args[i+1]:\n",
        "            d['ASCENDING'] += 1\n",
        "            d['WEAKLY ASCENDING'] += 1\n",
        "        else:\n",
        "            d['DESCENDING'] += 1\n",
        "            d['WEAKLY DESCENDING'] += 1\n",
        "        i += 1\n",
        "    if max(d.values()) == len(args) - 1:\n",
        "        print (max(d, key=d.get))\n",
        "    else:\n",
        "        print ('RANDOM')"
      ],
      "execution_count": null,
      "outputs": []
    },
    {
      "cell_type": "markdown",
      "metadata": {
        "id": "9zlgxU9cEe8A"
      },
      "source": [
        "⏰: 46ms\n",
        "\n",
        "🤯: 4.16Mb\n",
        "\n",
        "💡:\n",
        "\n",
        "*   Чтение агрументов до заданного \"стоп\" значения:\n",
        "\n",
        "\n",
        "```\n",
        "args = [int(x) for x in iter(input, '-2000000000')]\n",
        "```\n",
        "\n",
        "\n",
        "*   Вывод ключа элемента словаря с максимальным значением:\n",
        "\n",
        "\n",
        "```\n",
        "print (max(d, key=d.get))\n",
        "```\n",
        "\n",
        "\n",
        "\n",
        "\n",
        "\n",
        "\n"
      ]
    },
    {
      "cell_type": "markdown",
      "metadata": {
        "id": "uK4DaLsgCIlQ"
      },
      "source": [
        "#3.E OpenCalcucator"
      ]
    },
    {
      "cell_type": "markdown",
      "metadata": {
        "id": "ZYVfwOJNCgnO"
      },
      "source": [
        "В новой программе OpenCalculator появилась новая возможность – можно настроить, какие кнопки отображаются, а какие – нет. Если кнопка не отображается на экране, то ввести соответствующую цифру с клавиатуры или копированием из другой программы нельзя. Петя настроил калькулятор так, что он отображает только кнопки с цифрами x, y, z. Напишите программу, определяющую, сможет ли Петя ввести число N, а если нет, то какое минимальное количество кнопок надо дополнительно отобразить на экране для его ввода. \n",
        "\n",
        "**Формат ввода:**\n",
        "\n",
        "Сначала вводятся три различных числа из диапазона от 0 до 9: x, y и z (числа разделяются пробелами). Далее вводится целое неотрицательное число N, которое Петя хочет ввести в калькулятор. Число N не превышает 10000. \n",
        "\n",
        "**Формат вывода:**\n",
        "\n",
        "Выведите, какое минимальное количество кнопок должно быть добавлено для того, чтобы можно было ввести число N (если число может быть введено с помощью уже имеющихся кнопок, выведите 0)"
      ]
    },
    {
      "cell_type": "code",
      "metadata": {
        "id": "WkEMLX6YCdCV"
      },
      "source": [
        "set_bottoms = set(int(x) for x in input().split())\n",
        "digit = int(input())\n",
        "\n",
        "def parse_int(x):\n",
        "    array_of_digits = set()\n",
        "    while (x >= 10):\n",
        "        array_of_digits.add(x % 10)\n",
        "        x = x // 10\n",
        "    array_of_digits.add(x)\n",
        "    return  (array_of_digits)\n",
        "\n",
        "set_digit = parse_int(digit)\n",
        "add_bottoms = set_digit - set_bottoms\n",
        "print (len(add_bottoms))"
      ],
      "execution_count": null,
      "outputs": []
    },
    {
      "cell_type": "markdown",
      "metadata": {
        "id": "KCa1L7JPHMV8"
      },
      "source": [
        "⏰: 44ms\n",
        "\n",
        "🤯: 4.17Mb\n",
        "\n",
        "💡:\n",
        "\n",
        "* Парсер множества цифр числа из строки, неразделенной пробелами:\n",
        "\n",
        "\n",
        "\n",
        "```\n",
        "def parse_int(x):\n",
        "```\n",
        "\n",
        "\n",
        "\n"
      ]
    },
    {
      "cell_type": "markdown",
      "metadata": {
        "id": "IYLADqaSDQEW"
      },
      "source": [
        "#3.F Инопланетный геном"
      ]
    },
    {
      "cell_type": "markdown",
      "metadata": {
        "id": "v1mc1NskK1M3"
      },
      "source": [
        "Геном жителей системы Тау Кита содержит 26 видов оснований, для обозначения которых будем использовать буквы латинского алфавита от A до Z, а сам геном записывается строкой из латинских букв. Важную роль в геноме играют пары соседних оснований, например, в геноме «ABBACAB» можно выделить следующие пары оснований: AB, BB, BA, AC, CA, AB.\n",
        "\n",
        "Степенью близости одного генома другому геному называется количество пар соседних оснований первого генома, которые встречаются во втором геноме.\n",
        "\n",
        "Вам даны два генома, определите степень близости первого генома второму геному. Программа получает на вход две строки, состоящие из заглавных латинских букв. Каждая строка непустая, и её длина не превосходит 105.\n",
        "\n",
        "Программа должна вывести одно целое число – степень близости генома, записанного в первой строке, геному, записанному во второй строке.\n"
      ]
    },
    {
      "cell_type": "code",
      "metadata": {
        "id": "Cl3ZE_GFILEK"
      },
      "source": [
        "first_gen = input()\n",
        "second_gen = input()\n",
        "\n",
        "def parse_str_into_n_args(s, n):\n",
        "    output_set = []\n",
        "    for i in range(len(s) - n+1):\n",
        "        output_set.append((s[i:i+n]))\n",
        "    return (output_set)\n",
        "\n",
        "second_gen = set(parse_str_into_n_args(second_gen, 2))\n",
        "print (second_gen)\n",
        "\n",
        "counter = 0\n",
        "\n",
        "for i in range(len(first_gen)-1):\n",
        "    if first_gen[i:i+2] in second_gen:\n",
        "        counter += 1\n",
        "\n",
        "print (counter)"
      ],
      "execution_count": null,
      "outputs": []
    },
    {
      "cell_type": "markdown",
      "metadata": {
        "id": "nGPjYoNnK6iB"
      },
      "source": [
        "⏰: 123ms\n",
        "\n",
        "🤯: 9.17Mb\n",
        "\n",
        "💡:\n",
        "\n",
        "* Парсер строки в последовательные подстроки длиной n:\n",
        "\n",
        "\n",
        "\n",
        "```\n",
        "def parse_str_into_n_args(s, n):\n",
        "```\n",
        "\n"
      ]
    },
    {
      "cell_type": "markdown",
      "metadata": {
        "id": "q0TlBCANM7IG"
      },
      "source": [
        "#3I. Полиглоты"
      ]
    },
    {
      "cell_type": "markdown",
      "metadata": {
        "id": "mfJHFv1JNAMZ"
      },
      "source": [
        "Каждый из N школьников некоторой школы знает Mi языков. Определите, какие языки знают все школьники и языки, которые знает хотя бы один из школьников. \n",
        "\n",
        "**Формат ввода:**\n",
        "\n",
        "Первая строка входных данных содержит количество школьников N. Далее идет N чисел Mi, после каждого из чисел идет Mi строк, содержащих названия языков, которые знает i-й школьник. Длина названий языков не превышает 1000 символов, количество различных языков не более 1000. 1 ≤ N ≤ 1000, 1 ≤ Mi ≤ 500. \n",
        "\n",
        "**Формат вывода:**\n",
        "\n",
        "В первой строке выведите количество языков, которые знают все школьники. Начиная со второй строки - список таких языков. Затем - количество языков, которые знает хотя бы один школьник, на следующих строках - список таких языков. "
      ]
    },
    {
      "cell_type": "code",
      "metadata": {
        "id": "199lGftlJNrl"
      },
      "source": [
        "n_sets = int(input())\n",
        "\n",
        "tmp = [[] for i in range (n_sets)]\n",
        "tmp_sets = [set()]*n_sets\n",
        "\n",
        "for i in range(n_sets):\n",
        "    n_languages = int(input())\n",
        "    for j in range(n_languages):\n",
        "        tmp[i].append(str(input()))\n",
        "    \n",
        "for n in range (n_sets):\n",
        "    tmp_sets[n] = set(tmp[n])\n",
        "\n",
        "all_knows = tmp_sets[0].intersection(*tmp_sets)\n",
        "union = tmp_sets[0].union(*tmp_sets)\n",
        "\n",
        "print (len(all_knows))\n",
        "for a in all_knows:\n",
        "    print (str(a))\n",
        "print (len(union))\n",
        "for u in union:\n",
        "    print (u)"
      ],
      "execution_count": null,
      "outputs": []
    },
    {
      "cell_type": "markdown",
      "metadata": {
        "id": "s6tBWBV1NOsb"
      },
      "source": [
        "⏰: 162ms\n",
        "\n",
        "🤯: 14.1Mb\n",
        "\n",
        "💡:\n",
        "\n",
        "* Запись аргументов в массив значений переменной длины\n",
        "\n"
      ]
    },
    {
      "cell_type": "markdown",
      "metadata": {
        "id": "xts-AwJ_OuC7"
      },
      "source": [
        "#4.B Номер появления слова"
      ]
    },
    {
      "cell_type": "markdown",
      "metadata": {
        "id": "i8bTXB_KOy_T"
      },
      "source": [
        "Во входном файле (вы можете читать данные из файла input.txt) записан текст. Словом считается последовательность непробельных символов идущих подряд, слова разделены одним или большим числом пробелов или символами конца строки. Для каждого слова из этого текста подсчитайте, сколько раз оно встречалось в этом тексте ранее. "
      ]
    },
    {
      "cell_type": "code",
      "metadata": {
        "id": "V_mX070kN4u_"
      },
      "source": [
        "strs = [x.strip() for x in open('input.txt', 'r', encoding='utf-8').read().split()]\n",
        "\n",
        "d = {}\n",
        "ans_array = []\n",
        "\n",
        "for x in strs:\n",
        "    if x not in d:\n",
        "        d[x] = 0\n",
        "    else:\n",
        "        d[x] += 1\n",
        "    ans_array.append(d[x])\n",
        "\n",
        "print (\" \".join(map(str, ans_array)))"
      ],
      "execution_count": null,
      "outputs": []
    },
    {
      "cell_type": "markdown",
      "metadata": {
        "id": "17DGq8XnO539"
      },
      "source": [
        "⏰: 144ms\n",
        "\n",
        "🤯: 18.94Mb\n",
        "\n",
        "💡:\n",
        "\n",
        "* Построчное чтение аргументов в массив строк с разделением по пробелу:\n",
        "\n",
        "\n",
        "\n",
        "```\n",
        "strs = [x.strip() for x in open('input.txt', 'r', encoding='utf-8').read().split()]\n",
        "```\n",
        "\n"
      ]
    },
    {
      "cell_type": "markdown",
      "metadata": {
        "id": "foDeibg0PsSs"
      },
      "source": [
        "#4.C Самое частое слово"
      ]
    },
    {
      "cell_type": "markdown",
      "metadata": {
        "id": "PMXlazOiPwC5"
      },
      "source": [
        "Дан текст. Выведите слово, которое в этом тексте встречается чаще всего. Если таких слов несколько, выведите то, которое меньше в лексикографическом порядке. "
      ]
    },
    {
      "cell_type": "code",
      "metadata": {
        "id": "G5hQBZqUPSeT"
      },
      "source": [
        "input_strs = [x.strip() for x in open('input.txt', 'r', encoding='utf-8').read().split()]\n",
        "\n",
        "d = {}\n",
        "\n",
        "for x in input_strs:\n",
        "    if x not in d:\n",
        "        d[x] = 1\n",
        "    else:\n",
        "        d[x] += 1\n",
        "\n",
        "ans = max(d, key=d.get)\n",
        "n = max(d.values())\n",
        "\n",
        "for a in d:\n",
        "    if (d[a] == n) and (a < ans):\n",
        "        ans = a\n",
        "\n",
        "print (ans)"
      ],
      "execution_count": null,
      "outputs": []
    },
    {
      "cell_type": "markdown",
      "metadata": {
        "id": "IZOQ-p5LP2-y"
      },
      "source": [
        "⏰: 136ms\n",
        "\n",
        "🤯: 18.13Mb\n",
        "\n",
        "💡:\n",
        "\n",
        "* Лексикографический вывод самого частого слова:\n",
        "\n",
        "\n",
        "\n",
        "```\n",
        "ans = max(d, key=d.get)\n",
        "n = max(d.values())\n",
        "\n",
        "for a in d:\n",
        "    if (d[a] == n) and (a < ans):\n",
        "        ans = a\n",
        "```\n",
        "\n",
        "\n"
      ]
    },
    {
      "cell_type": "code",
      "metadata": {
        "id": "n0IK4yiQQGCO"
      },
      "source": [
        ""
      ],
      "execution_count": null,
      "outputs": []
    }
  ]
}